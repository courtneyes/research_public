{
 "cells": [
  {
   "cell_type": "markdown",
   "metadata": {},
   "source": [
    "# Exercises: Linear Regression \n",
    "By Christopher van Hoecke, Max Margenot, and Delaney Mackenzie\n",
    "\n",
    "## Lecture Link : \n",
    "https://www.quantopian.com/lectures/linear-regression\n",
    "\n",
    "### IMPORTANT NOTE: \n",
    "This lecture corresponds to the Linear Regression lecture, which is part of the Quantopian lecture series. This homework expects you to rely heavily on the code presented in the corresponding lecture. Please copy and paste regularly from that lecture when starting to work on the problems, as trying to do them from scratch will likely be too difficult.\n",
    "\n",
    "Part of the Quantopian Lecture Series:\n",
    "\n",
    "* [www.quantopian.com/lectures](https://www.quantopian.com/lectures)\n",
    "* [github.com/quantopian/research_public](https://github.com/quantopian/research_public)\n",
    "\n",
    "----"
   ]
  },
  {
   "cell_type": "markdown",
   "metadata": {},
   "source": [
    "## Key concepts"
   ]
  },
  {
   "cell_type": "code",
   "execution_count": 2,
   "metadata": {
    "tags": []
   },
   "outputs": [],
   "source": [
    "# Useful Functions\n",
    "def linreg(X,Y):\n",
    "    # Running the linear regression\n",
    "    X = sm.add_constant(X)\n",
    "    model = regression.linear_model.OLS(Y, X).fit()\n",
    "    a = model.params[0]\n",
    "    b = model.params[1]\n",
    "    X = X[:, 1]\n",
    "\n",
    "    # Return summary of the regression and plot results\n",
    "    X2 = np.linspace(X.min(), X.max(), 100)\n",
    "    Y_hat = X2 * b + a\n",
    "    plt.scatter(X, Y, alpha=0.3) # Plot the raw data\n",
    "    plt.plot(X2, Y_hat, 'r', alpha=0.9);  # Add the regression line, colored in red\n",
    "    plt.xlabel('X Value')\n",
    "    plt.ylabel('Y Value')\n",
    "    return model.summary()"
   ]
  },
  {
   "cell_type": "code",
   "execution_count": 6,
   "metadata": {},
   "outputs": [],
   "source": [
    "# Useful Libraries\n",
    "import math\n",
    "import numpy as np\n",
    "import matplotlib.pyplot as plt\n",
    "\n",
    "from statsmodels import regression\n",
    "from statsmodels.stats import diagnostic\n",
    "import statsmodels.regression as smr\n",
    "import statsmodels.api as sm\n",
    "# from statsmodels.stats.diagnostic import het_breushpagan\n",
    "\n",
    "import scipy as sp\n",
    "import scipy.stats\n",
    "import seaborn\n"
   ]
  },
  {
   "cell_type": "markdown",
   "metadata": {},
   "source": [
    "----"
   ]
  },
  {
   "cell_type": "markdown",
   "metadata": {},
   "source": [
    "# Exercise 1: Temperatures\n",
    "Given this set of Fahrenheit and Celsius values, find a model that expresses the relationship between the two temperature scales."
   ]
  },
  {
   "cell_type": "code",
   "execution_count": 8,
   "metadata": {},
   "outputs": [
    {
     "data": {
      "text/html": [
       "<table class=\"simpletable\">\n",
       "<caption>OLS Regression Results</caption>\n",
       "<tr>\n",
       "  <th>Dep. Variable:</th>            <td>y</td>        <th>  R-squared:         </th> <td>   1.000</td> \n",
       "</tr>\n",
       "<tr>\n",
       "  <th>Model:</th>                   <td>OLS</td>       <th>  Adj. R-squared:    </th> <td>   1.000</td> \n",
       "</tr>\n",
       "<tr>\n",
       "  <th>Method:</th>             <td>Least Squares</td>  <th>  F-statistic:       </th> <td>7.818e+06</td>\n",
       "</tr>\n",
       "<tr>\n",
       "  <th>Date:</th>             <td>Mon, 05 Apr 2021</td> <th>  Prob (F-statistic):</th> <td>8.33e-55</td> \n",
       "</tr>\n",
       "<tr>\n",
       "  <th>Time:</th>                 <td>22:01:50</td>     <th>  Log-Likelihood:    </th> <td> -14.032</td> \n",
       "</tr>\n",
       "<tr>\n",
       "  <th>No. Observations:</th>      <td>    21</td>      <th>  AIC:               </th> <td>   32.06</td> \n",
       "</tr>\n",
       "<tr>\n",
       "  <th>Df Residuals:</th>          <td>    19</td>      <th>  BIC:               </th> <td>   34.15</td> \n",
       "</tr>\n",
       "<tr>\n",
       "  <th>Df Model:</th>              <td>     1</td>      <th>                     </th>     <td> </td>    \n",
       "</tr>\n",
       "<tr>\n",
       "  <th>Covariance Type:</th>      <td>nonrobust</td>    <th>                     </th>     <td> </td>    \n",
       "</tr>\n",
       "</table>\n",
       "<table class=\"simpletable\">\n",
       "<tr>\n",
       "    <td></td>       <th>coef</th>     <th>std err</th>      <th>t</th>      <th>P>|t|</th>  <th>[0.025</th>    <th>0.975]</th>  \n",
       "</tr>\n",
       "<tr>\n",
       "  <th>const</th> <td>  -17.8856</td> <td>    0.108</td> <td> -164.884</td> <td> 0.000</td> <td>  -18.113</td> <td>  -17.659</td>\n",
       "</tr>\n",
       "<tr>\n",
       "  <th>x1</th>    <td>    0.5556</td> <td>    0.000</td> <td> 2795.998</td> <td> 0.000</td> <td>    0.555</td> <td>    0.556</td>\n",
       "</tr>\n",
       "</table>\n",
       "<table class=\"simpletable\">\n",
       "<tr>\n",
       "  <th>Omnibus:</th>       <td>53.362</td> <th>  Durbin-Watson:     </th> <td>   2.112</td>\n",
       "</tr>\n",
       "<tr>\n",
       "  <th>Prob(Omnibus):</th> <td> 0.000</td> <th>  Jarque-Bera (JB):  </th> <td> 281.988</td>\n",
       "</tr>\n",
       "<tr>\n",
       "  <th>Skew:</th>          <td>-4.212</td> <th>  Prob(JB):          </th> <td>5.85e-62</td>\n",
       "</tr>\n",
       "<tr>\n",
       "  <th>Kurtosis:</th>      <td>18.853</td> <th>  Cond. No.          </th> <td>    547.</td>\n",
       "</tr>\n",
       "</table><br/><br/>Notes:<br/>[1] Standard Errors assume that the covariance matrix of the errors is correctly specified."
      ],
      "text/plain": [
       "<class 'statsmodels.iolib.summary.Summary'>\n",
       "\"\"\"\n",
       "                            OLS Regression Results                            \n",
       "==============================================================================\n",
       "Dep. Variable:                      y   R-squared:                       1.000\n",
       "Model:                            OLS   Adj. R-squared:                  1.000\n",
       "Method:                 Least Squares   F-statistic:                 7.818e+06\n",
       "Date:                Mon, 05 Apr 2021   Prob (F-statistic):           8.33e-55\n",
       "Time:                        22:01:50   Log-Likelihood:                -14.032\n",
       "No. Observations:                  21   AIC:                             32.06\n",
       "Df Residuals:                      19   BIC:                             34.15\n",
       "Df Model:                           1                                         \n",
       "Covariance Type:            nonrobust                                         \n",
       "==============================================================================\n",
       "                 coef    std err          t      P>|t|      [0.025      0.975]\n",
       "------------------------------------------------------------------------------\n",
       "const        -17.8856      0.108   -164.884      0.000     -18.113     -17.659\n",
       "x1             0.5556      0.000   2795.998      0.000       0.555       0.556\n",
       "==============================================================================\n",
       "Omnibus:                       53.362   Durbin-Watson:                   2.112\n",
       "Prob(Omnibus):                  0.000   Jarque-Bera (JB):              281.988\n",
       "Skew:                          -4.212   Prob(JB):                     5.85e-62\n",
       "Kurtosis:                      18.853   Cond. No.                         547.\n",
       "==============================================================================\n",
       "\n",
       "Notes:\n",
       "[1] Standard Errors assume that the covariance matrix of the errors is correctly specified.\n",
       "\"\"\""
      ]
     },
     "execution_count": 8,
     "metadata": {},
     "output_type": "execute_result"
    },
    {
     "data": {
      "image/png": "[encoded data removed]",
      "text/plain": [
       "<Figure size 432x288 with 1 Axes>"
      ]
     },
     "metadata": {
      "needs_background": "light"
     },
     "output_type": "display_data"
    }
   ],
   "source": [
    "fahrenheit = [-868, -778, -688, -598, -508, -418, -328, -238, -144, -58, 32, 122, 212, 302, 392, 482, \n",
    "              572, 662, 752, 842, 932]\n",
    "celsius    = [-500, -450, -400, -350, -300, -250, -200, -150, -100, -50, 0, 50, 100, 150, 200, 250, \n",
    "              300, 350, 400, 450, 500]\n",
    "\n",
    "## Your code goes here\n",
    "linreg(fahrenheit, celsius)"
   ]
  },
  {
   "cell_type": "markdown",
   "metadata": {},
   "source": [
    "----"
   ]
  },
  {
   "cell_type": "markdown",
   "metadata": {},
   "source": [
    "# Exercise 2 : Confidence Intervals\n",
    "## a. Visualizing Confidence Intervals \n",
    "Using the lecture series and the seaborn library, plot the regression line between the parameters and the $95\\%$ confidence interval."
   ]
  },
  {
   "cell_type": "code",
   "execution_count": null,
   "metadata": {},
   "outputs": [],
   "source": [
    "start = '2014-01-01'\n",
    "end = '2015-01-01'\n",
    "asset = get_pricing('KO', fields='price', start_date=start, end_date=end)\n",
    "benchmark = get_pricing('PEP', fields='price', start_date=start, end_date=end)\n",
    "\n",
    "returns1 = asset.pct_change()[1:]\n",
    "returns2 = benchmark.pct_change()[1:]\n",
    "\n",
    "## Your code goes here"
   ]
  },
  {
   "cell_type": "markdown",
   "metadata": {},
   "source": [
    "## b. Calculating Confidence Levels of Parameters. \n",
    "Let's directly calculate the $95\\%$ confidence intervals of our parameters. The formula for a given parameter is:\n",
    "\n",
    "$$ CI = \\left(\\beta - z \\cdot \\frac{s}{\\sqrt{n}}, \\beta + z \\cdot \\frac{s}{\\sqrt{n}}\\right) $$\n",
    "\n",
    "Where,  $\\beta$ is the coefficient, $z$ is the critical value*(t-statistic required to obtain a probability less than the alpha significance level)*, and $SE_{i,i}$ is the Standard Error Matrix. "
   ]
  },
  {
   "cell_type": "code",
   "execution_count": null,
   "metadata": {},
   "outputs": [],
   "source": [
    "start = '2014-01-01'\n",
    "end = '2015-01-01'\n",
    "asset = get_pricing('KO', fields='price', start_date=start, end_date=end)\n",
    "benchmark = get_pricing('PEP', fields='price', start_date=start, end_date=end)\n",
    "\n",
    "X = asset.pct_change()[1:]\n",
    "Y = benchmark.pct_change()[1:]\n",
    "\n",
    "result = sm.OLS(Y,X).fit()\n",
    "\n",
    "# Convert X to Matrix (adding columns of one)\n",
    "X = np.vstack((X, np.ones( X.size ) ))\n",
    "X = np.matrix( X )\n",
    "\n",
    "# Matrix Multiplication and inverse calculation\n",
    "C = np.linalg.inv( X * X.T )\n",
    "C *= result.mse_resid\n",
    "SE = np.sqrt(C) # Calucaltion of Standart Error. \n",
    "\n",
    "# Critical Values of the t-statistic\n",
    "N = result.nobs\n",
    "P = result.df_model\n",
    "dof = N - P - 1\n",
    "z = scipy.stats.t(dof).ppf(0.975)\n",
    "\n",
    "i = 0\n",
    "## Your code goes here\n",
    "\n",
    "# Fetch values of Beta and parameters of SE from the matrix\n",
    "beta = ## Your code goes here\n",
    "c = ## Your code goes here\n",
    "\n",
    "print ## Your code goes here"
   ]
  },
  {
   "cell_type": "markdown",
   "metadata": {},
   "source": [
    "----"
   ]
  },
  {
   "cell_type": "markdown",
   "metadata": {},
   "source": [
    "# Exercise 3 : $R^2$ Value\n",
    "\n",
    "$R^2$ is the measure of how closely your data points are to the regression line, and is defined as $$ R^2 = 1 - \\frac{\\Sigma((y_{predicted} - (y_{actual}))^2)}{\\Sigma( y_{predicited} - \\frac{\\Sigma y_{actual}}{len(y_{actual}})^2} $$ \n",
    "Given the information from exercise 1, calculate the value of $R^2$ manually.\n",
    "You can start by expressing f as a function of c from the data obtained from Exercise 1 (these are the predicted values of y). "
   ]
  },
  {
   "cell_type": "code",
   "execution_count": 11,
   "metadata": {},
   "outputs": [],
   "source": [
    "# Creat an empty numpy array (float values).\n",
    "# Find the predicted value of f for every c in celsius (given by f = 32 + 1.8c)\n",
    "fpred = np.array([])\n",
    "f = [32 + 1.8*c for c in celsius] ## Your code goes here (fill in the values of Beta, and X1)\n",
    "ypredicted = np.append(f, fpred)"
   ]
  },
  {
   "cell_type": "markdown",
   "metadata": {},
   "source": [
    "Using the values of $y_{predicted}$  and  $y_{actual}$, calculate the squared element by element difference of the two lists, and sum them."
   ]
  },
  {
   "cell_type": "code",
   "execution_count": 12,
   "metadata": {
    "tags": []
   },
   "outputs": [],
   "source": [
    "# Calucate the difference between the predicted values of y and the actual values of y, \n",
    "# Find the square of the difference\n",
    "# Sum the Squares\n",
    "\n",
    "ypred_yact = [a - b for a, b in zip(ypredicted, fahrenheit)] ## your code goes here (a - b)\n",
    "diff1squared = [a**2 for a in ypred_yact] ## Your code goes here\n",
    "sumsquares1 = sum(diff1squared) ## Your code goes here "
   ]
  },
  {
   "cell_type": "markdown",
   "metadata": {},
   "source": [
    "Using the values of $y_{predicted}$ and mean, calculate the mean of the predicted values, along with the difference between $y_{predicted} - mean$. Square the values in the list obtained from the difference and sum them. "
   ]
  },
  {
   "cell_type": "code",
   "execution_count": 13,
   "metadata": {
    "tags": []
   },
   "outputs": [],
   "source": [
    "# Calucate the difference between the predicted values of y and mean of y. \n",
    "# Find the square of the difference\n",
    "# Sum the Squares\n",
    "\n",
    "yactmean = np.mean(fahrenheit) ## Your code goes here\n",
    "ypred_yactmean_squared = [(y - yactmean)**2 for y in ypredicted]\n",
    "sumsquares2 = sum(ypred_yactmean_squared)"
   ]
  },
  {
   "cell_type": "markdown",
   "metadata": {},
   "source": [
    "We can now calculate the R-Squared by subtracting one to the ratio of the two sums. "
   ]
  },
  {
   "cell_type": "code",
   "execution_count": 15,
   "metadata": {},
   "outputs": [
    {
     "name": "stdout",
     "output_type": "stream",
     "text": [
      "R-squared =  0.9999974346644147\n"
     ]
    }
   ],
   "source": [
    "r =  1 - (sumsquares1 / sumsquares2 )## Your code goes here\n",
    "print('R-squared = ', r)"
   ]
  },
  {
   "cell_type": "markdown",
   "metadata": {},
   "source": [
    "----"
   ]
  },
  {
   "cell_type": "markdown",
   "metadata": {},
   "source": [
    "# Exercise 4 : Residuals\n",
    "**Defintion : In statistics, the residuals are differences between the predicted values and the actual values**: \n",
    "\n",
    "$$e = y - ŷ$$\n",
    "\n",
    "## a. Residual Analysis I\n",
    "- Model the data given bellow as a linear regression. \n",
    "- Calculate and plot the residual of the data sets *(remember to use the coefficient and the value of x1 to find the predicted values of y)*\n",
    "- Print the sum of the residuals. \n",
    "- Discuss the choice of regression model. "
   ]
  },
  {
   "cell_type": "code",
   "execution_count": null,
   "metadata": {
    "collapsed": true,
    "jupyter": {
     "outputs_hidden": true
    }
   },
   "outputs": [],
   "source": [
    "asset1 = get_pricing('SPY', \n",
    "                     fields='price', \n",
    "                     start_date='2005-01-01', \n",
    "                     end_date='2010-01-01')\n",
    "asset2 = get_pricing('GS', \n",
    "                     fields='price', \n",
    "                     start_date='2005-01-01', \n",
    "                     end_date='2010-01-01')\n",
    "\n",
    "returns1 = asset1.pct_change()[1:]\n",
    "returns2 = asset2.pct_change()[1:]\n",
    "\n",
    "## Your code goes here\n",
    "linreg(returns1, returns2)"
   ]
  },
  {
   "cell_type": "markdown",
   "metadata": {},
   "source": [
    "Run the Breush-Pagan test to check for heteroskedasticity in the residuals. Note that the residuals of the model should have constant variance, presence of heteroskedasticity would indicate our choice of model is not optimal. "
   ]
  },
  {
   "cell_type": "code",
   "execution_count": null,
   "metadata": {},
   "outputs": [],
   "source": [
    "lm, p_lm, fv, p_fv =  ## Your code goes here\n",
    "print 'p-value for f-statistic of the breush-pagan test:', ## Your code goes here\n",
    "print '===='  \n",
    "print \"Since the p-value obtained is ______ than alpha (0.05), \\\n",
    "we ______ reject the null hypothesis of the breush-pagan test\""
   ]
  },
  {
   "cell_type": "code",
   "execution_count": null,
   "metadata": {},
   "outputs": [],
   "source": [
    "# Predicted values of asset1\n",
    "y = ## Your code goes here\n",
    "\n",
    "plt.scatter(y, results.resid)\n",
    "plt.title('Scatter plot of Residuals to predicted model')\n",
    "plt.xlabel('Predicted Model')\n",
    "plt.ylabel('Residuals');"
   ]
  },
  {
   "cell_type": "markdown",
   "metadata": {},
   "source": [
    "## b. Residual Analysis II\n",
    "- Run the linear regression function for x and y\n",
    "- Find and plot the residual of the two data points. \n",
    "- Discuss the choice in model. "
   ]
  },
  {
   "cell_type": "code",
   "execution_count": null,
   "metadata": {},
   "outputs": [],
   "source": [
    "p1 = get_pricing('SPY', start_date = '2005-01-01', \n",
    "                 end_date = '2010-01-01', \n",
    "                 fields = 'price').pct_change()[1:]\n",
    "p2 = get_pricing('XLF', start_date = '2005-01-01', \n",
    "                 end_date = '2010-01-01', \n",
    "                 fields = 'price').pct_change()[1:]\n",
    "\n",
    "## Your code goes here\n",
    "results2 = \n",
    "y = "
   ]
  },
  {
   "cell_type": "code",
   "execution_count": null,
   "metadata": {},
   "outputs": [],
   "source": [
    "plt.scatter(y, results2.resid)\n",
    "plt.title('Scatter plot of Residuals to predicted model')\n",
    "plt.xlabel('Predicted Model')\n",
    "plt.ylabel('Residuals')\n",
    "\n",
    "lm, p_lm, fv, p_fv = ## Your code goes here\n",
    "print 'p-value for f-statistic of the breush-pagan test:',## Your code goes here\n",
    "print '===='  \n",
    "print \"Since the p-value obtained is ____ than alpha (0.05), \\\n",
    "we ______ the null hypothesis of the breush-pagan test\""
   ]
  },
  {
   "cell_type": "markdown",
   "metadata": {},
   "source": [
    "While checking for residual is a good way of checking the accuracy of our model choice, we must also check fot heteroscedasticity (checking if there are sub-populations that have different variabilities from others). An assumption of the linear regression model is that there is no heteroscedasticity, OLS estimators are no longer the Best Linear Unbiased Estimators if this assumption is broken.  \n",
    "Read more about heteroscedasticity here https://en.wikipedia.org/wiki/Heteroscedasticity#Consequences"
   ]
  },
  {
   "cell_type": "markdown",
   "metadata": {},
   "source": [
    "---"
   ]
  },
  {
   "cell_type": "markdown",
   "metadata": {},
   "source": [
    "Congratulations on completing the Linear Regression exercise!\n",
    "\n",
    "As you learn more about writing trading algorithms and the Quantopian platform, be sure to check out the [Quantopian Daily Contest](https://www.quantopian.com/contest), in which you can compete for a cash prize every day.\n",
    "\n",
    "Start by going through the [Writing a Contest Algorithm](https://www.quantopian.com/tutorials/contest) Tutorial."
   ]
  },
  {
   "cell_type": "markdown",
   "metadata": {},
   "source": [
    "*This presentation is for informational purposes only and does not constitute an offer to sell, a solicitation to buy, or a recommendation for any security; nor does it constitute an offer to provide investment advisory or other services by Quantopian, Inc. (\"Quantopian\"). Nothing contained herein constitutes investment advice or offers any opinion with respect to the suitability of any security, and any views expressed herein should not be taken as advice to buy, sell, or hold any security or as an endorsement of any security or company.  In preparing the information contained herein, Quantopian, Inc. has not taken into account the investment needs, objectives, and financial circumstances of any particular investor. Any views expressed and data illustrated herein were prepared based upon information, believed to be reliable, available to Quantopian, Inc. at the time of publication. Quantopian makes no guarantees as to their accuracy or completeness. All information is subject to change and may quickly become unreliable for various reasons, including changes in market conditions or economic circumstances.*"
   ]
  }
 ],
 "metadata": {
  "kernelspec": {
   "display_name": "Python 3",
   "language": "python",
   "name": "python3"
  },
  "language_info": {
   "codemirror_mode": {
    "name": "ipython",
    "version": 3
   },
   "file_extension": ".py",
   "mimetype": "text/x-python",
   "name": "python",
   "nbconvert_exporter": "python",
   "pygments_lexer": "ipython3",
   "version": "3.8.1"
  }
 },
 "nbformat": 4,
 "nbformat_minor": 4
}
