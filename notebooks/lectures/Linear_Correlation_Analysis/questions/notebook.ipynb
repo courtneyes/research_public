{
 "cells": [
  {
   "cell_type": "markdown",
   "metadata": {
    "deletable": true,
    "editable": true
   },
   "source": [
    "# Exercises: Linear Correlation Analysis\n",
    "\n",
    "## Lecture Link : \n",
    "https://www.quantopian.com/lectures/linear-correlation-analysis\n",
    "\n",
    "### IMPORTANT NOTE: \n",
    "This lecture corresponds to the Linear Correlation Analysis lecture, which is part of the Quantopian lecture series. This homework expects you to rely heavily on the code presented in the corresponding lecture. Please copy and paste regularly from that lecture when starting to work on the problems, as trying to do them from scratch will likely be too difficult.\n",
    "\n",
    "Part of the Quantopian Lecture Series:\n",
    "\n",
    "* [www.quantopian.com/lectures](https://www.quantopian.com/lectures)\n",
    "* [github.com/quantopian/research_public](https://github.com/quantopian/research_public)\n",
    "\n",
    "----"
   ]
  },
  {
   "cell_type": "markdown",
   "metadata": {
    "deletable": true,
    "editable": true
   },
   "source": [
    "## Key Concepts"
   ]
  },
  {
   "cell_type": "code",
   "execution_count": 1,
   "metadata": {
    "deletable": true,
    "editable": true,
    "tags": []
   },
   "outputs": [],
   "source": [
    "# Useful Functions\n",
    "def find_most_correlated(data):\n",
    "    n = data.shape[1]\n",
    "    keys = data.keys()\n",
    "    pair = []\n",
    "    max_value = 0\n",
    "    for i in range(n):\n",
    "        for j in range(i+1, n):\n",
    "            S1 = data[keys[i]]\n",
    "            S2 = data[keys[j]]\n",
    "            result = np.corrcoef(S1, S2)[0,1]\n",
    "            if result > max_value:\n",
    "                pair = (keys[i], keys[j])\n",
    "                max_value = result\n",
    "    return pair, max_value"
   ]
  },
  {
   "cell_type": "code",
   "execution_count": 4,
   "metadata": {
    "deletable": true,
    "editable": true,
    "tags": []
   },
   "outputs": [],
   "source": [
    "# Useful Libraries\n",
    "import numpy as np\n",
    "import pandas as pd\n",
    "import quandl as ql\n",
    "import matplotlib.pyplot as plt\n",
    "import marketstack as ms\n",
    "\n",
    "# import sys  \n",
    "# sys.path.insert(0, '/Users/scottc/Documents/Personal/research_public/notebooks/utils')\n",
    "# print(sys.path)"
   ]
  },
  {
   "cell_type": "markdown",
   "metadata": {
    "deletable": true,
    "editable": true
   },
   "source": [
    "---"
   ]
  },
  {
   "cell_type": "markdown",
   "metadata": {
    "deletable": true,
    "editable": true
   },
   "source": [
    "# Exercise 1: Dependence of Artificial Variables\n",
    "\n",
    "## a. Finding Variance, Covariance, and Correlation I\n",
    "\n",
    "By reading the matrix output from the `np.cov()` and `np.corrcoef()` functions, find the variance of the variables $A$ and $B$ and the covariance and correlation of their relationship. "
   ]
  },
  {
   "cell_type": "code",
   "execution_count": null,
   "metadata": {
    "collapsed": false,
    "deletable": true,
    "editable": true,
    "jupyter": {
     "outputs_hidden": false
    }
   },
   "outputs": [],
   "source": [
    "A = np.random.rand(100)\n",
    "B = -3 * A + np.random.exponential(0.05, 100)\n",
    "\n",
    "covariance = np.cov(A, B)\n",
    "correlation_coefficient = np.corrcoef(A, B)\n",
    "\n",
    "print('Covariance Matrix: \\n', covariance, '\\n')\n",
    "print('Correlation Matrix: \\n', correlation_coefficient, '\\n')\n",
    "\n",
    "print('Variance of A: ', covariance[0,0])\n",
    "print('Variance of B: ', covariance[1,1], '\\n')\n",
    "\n",
    "print('Covariance of A and B:', covariance[1,0])\n",
    "print('Correlation of A and B:', correlation_coefficient[0,1])"
   ]
  },
  {
   "cell_type": "markdown",
   "metadata": {
    "deletable": true,
    "editable": true
   },
   "source": [
    "## b. Finding Variance, Covariance, and Correlation II\n",
    "\n",
    "By reading the matrix output from the `np.cov()` and `np.corrcoef()` functions, find the variance of the variables $C$ and $D$ and the covariance and correlation of their relationship. "
   ]
  },
  {
   "cell_type": "code",
   "execution_count": null,
   "metadata": {
    "collapsed": false,
    "deletable": true,
    "editable": true,
    "jupyter": {
     "outputs_hidden": false
    }
   },
   "outputs": [],
   "source": [
    "C = np.random.rand(100)\n",
    "D = np.random.normal(0, 0.5, 100)\n",
    "\n",
    "covariance = np.cov(C, D)\n",
    "correlation_coefficient = np.corrcoef(C, D)\n",
    "\n",
    "print('Covariance Matrix: \\n', covariance, '\\n')\n",
    "print('Correlation Matrix: \\n', correlation_coefficient, '\\n')\n",
    "\n",
    "print('Variance of C: ', covariance[0,0])\n",
    "print('Variance of D: ', covariance[1,1], '\\n')\n",
    "\n",
    "print('Covariance of C and D:', covariance[1,0])\n",
    "print('Correlation of C and D:', correlation_coefficient[0,1])"
   ]
  },
  {
   "cell_type": "markdown",
   "metadata": {
    "deletable": true,
    "editable": true
   },
   "source": [
    "----"
   ]
  },
  {
   "cell_type": "markdown",
   "metadata": {
    "deletable": true,
    "editable": true
   },
   "source": [
    "# Exercise 2: Constructing Example Relationships\n",
    "\n",
    "## a. Positive Correlation Example\n",
    "\n",
    "Construct a variable $Y$ which has a strong, but not perfect, positive correlation with $X$ $(0.9 < Corr(X,Y) < 1)$, and plot their relationship."
   ]
  },
  {
   "cell_type": "code",
   "execution_count": null,
   "metadata": {
    "collapsed": false,
    "deletable": true,
    "editable": true,
    "jupyter": {
     "outputs_hidden": false
    }
   },
   "outputs": [],
   "source": [
    "X = np.random.rand(100)\n",
    "Y = X + np.random.normal(0, 0.1, 100)\n",
    "\n",
    "covariance = np.cov(X, Y)\n",
    "correlation_coefficient = np.corrcoef(X, Y)\n",
    "\n",
    "print('Covariance Matrix: \\n', covariance, '\\n')\n",
    "print('Correlation Matrix: \\n', correlation_coefficient, '\\n')\n",
    "\n",
    "print('Variance of X: ', covariance[0,0])\n",
    "print('Variance of Y: ', covariance[1,1], '\\n')\n",
    "\n",
    "print('Covariance of X and Y:', covariance[1,0])\n",
    "print('Correlation of X and Y:', correlation_coefficient[0,1])\n",
    "\n",
    "plt.scatter(X,Y)\n",
    "plt.xlabel('X Value')\n",
    "plt.ylabel('Y Value')"
   ]
  },
  {
   "cell_type": "markdown",
   "metadata": {
    "deletable": true,
    "editable": true
   },
   "source": [
    "## b. Negative Correlation Example\n",
    "\n",
    "Construct a variable $W$ which has a weak, negative correlation with $Z$ $(-0.3 < Corr(Z,W) < 0)$, and plot their relationship."
   ]
  },
  {
   "cell_type": "code",
   "execution_count": null,
   "metadata": {
    "collapsed": false,
    "deletable": true,
    "editable": true,
    "jupyter": {
     "outputs_hidden": false
    }
   },
   "outputs": [],
   "source": [
    "Z = np.random.rand(100)\n",
    "W = -10*Z + np.random.normal(0, 30, 100)\n",
    "\n",
    "covariance = np.cov(Z, W)\n",
    "correlation_coefficient = np.corrcoef(Z, W)\n",
    "\n",
    "print('Covariance Matrix: \\n', covariance, '\\n')\n",
    "print('Correlation Matrix: \\n', correlation_coefficient, '\\n')\n",
    "\n",
    "print('Variance of Z: ', covariance[0,0])\n",
    "print('Variance of W: ', covariance[1,1], '\\n')\n",
    "\n",
    "print('Covariance of Z and W:', covariance[1,0])\n",
    "print('Correlation of Z and W:', correlation_coefficient[0,1])\n",
    "\n",
    "plt.scatter(Z, W)\n",
    "plt.xlabel('Z Value')\n",
    "plt.ylabel('W Value')"
   ]
  },
  {
   "cell_type": "markdown",
   "metadata": {
    "deletable": true,
    "editable": true
   },
   "source": [
    "----"
   ]
  },
  {
   "cell_type": "markdown",
   "metadata": {
    "deletable": true,
    "editable": true
   },
   "source": [
    "# Exercise 3: Correlation of Real Assets\n",
    "\n",
    "## a. Finding Correlation of Real Assets\n",
    "\n",
    "Find the correlation between the stocks OKE and LAKE. Also check how they correlate with the provided benchmark."
   ]
  },
  {
   "cell_type": "code",
   "execution_count": 25,
   "metadata": {
    "collapsed": false,
    "deletable": true,
    "editable": true,
    "jupyter": {
     "outputs_hidden": false
    }
   },
   "outputs": [
    {
     "name": "stdout",
     "output_type": "stream",
     "text": [
      "Correlation coefficient of OKE and LAKE: -0.17688741136183084\n",
      "Correlation coefficient of OKE and benchmark: 0.3414947325324969\n",
      "Correlation coefficient of LAKE and benchmark: 0.04490511189538861\n"
     ]
    }
   ],
   "source": [
    "start='2020-01-01'\n",
    "field = 'close'\n",
    "\n",
    "OKE = ms.get_pricing('OKE', field=field, start_date=start).pct_change()[1:]\n",
    "LAKE = ms.get_pricing('LAKE', field=field, start_date=start).pct_change()[1:]\n",
    "QQQ = ms.get_pricing('QQQ', field=field, start_date=start).pct_change()[1:]\n",
    "\n",
    "print('Correlation coefficient of OKE and LAKE:', np.corrcoef(OKE, LAKE)[0,1])\n",
    "print('Correlation coefficient of OKE and benchmark:', np.corrcoef(OKE, QQQ)[0,1])\n",
    "print('Correlation coefficient of LAKE and benchmark:', np.corrcoef(LAKE, QQQ)[0,1])"
   ]
  },
  {
   "cell_type": "markdown",
   "metadata": {
    "deletable": true,
    "editable": true
   },
   "source": [
    "## b. Finding Correlated Pairs\n",
    "\n",
    "Find the most correlated pair of stocks in the following portfolio using 2015 pricing data and the `find_most_correlated` function defined in the Helper Functions section above."
   ]
  },
  {
   "cell_type": "code",
   "execution_count": null,
   "metadata": {
    "collapsed": false,
    "deletable": true,
    "editable": true,
    "jupyter": {
     "outputs_hidden": false
    }
   },
   "outputs": [],
   "source": [
    "symbol_list = ['GSK', 'SNOW', 'FB', 'AZO', 'XEC', 'AMZN']\n",
    "data = get_pricing(symbol_list, fields=['price']\n",
    "                               , start_date='2015-01-01', end_date='2016-01-01')['price']\n",
    "data.columns = symbol_list\n",
    "\n",
    "#Your code goes here"
   ]
  },
  {
   "cell_type": "markdown",
   "metadata": {
    "deletable": true,
    "editable": true
   },
   "source": [
    "----"
   ]
  },
  {
   "cell_type": "markdown",
   "metadata": {
    "deletable": true,
    "editable": true
   },
   "source": [
    "# Exercise 4: Limitations of Correlation\n",
    "\n",
    "## a. Out of Sample Tests\n",
    "\n",
    "Using pricing data from the first half of 2016, find the correlation coefficient between FB and AMZN and compare it to the strong positive relationship predicted from the 2015 correlation coefficient to see if that result holds."
   ]
  },
  {
   "cell_type": "code",
   "execution_count": null,
   "metadata": {
    "collapsed": false,
    "deletable": true,
    "editable": true,
    "jupyter": {
     "outputs_hidden": false
    }
   },
   "outputs": [],
   "source": [
    "FB_15 = get_pricing('FB', fields='price', start_date='2015-01-01', end_date='2016-01-01')\n",
    "AMZN_15 = get_pricing('AMZN', fields='price', start_date='2015-01-01', end_date='2016-01-01')\n",
    "FB_16 = get_pricing('FB', fields='price', start_date='2016-01-01', end_date='2016-07-01')\n",
    "AMZN_16 = get_pricing('AMZN', fields='price', start_date='2016-01-01', end_date='2016-07-01')\n",
    "\n",
    "#Your code goes here"
   ]
  },
  {
   "cell_type": "markdown",
   "metadata": {
    "deletable": true,
    "editable": true
   },
   "source": [
    "## b. Rolling Correlation\n",
    "\n",
    "Plot the 60-day rolling correlation coefficient between FB and AMZN to make a conclusion about the stability of their relationship."
   ]
  },
  {
   "cell_type": "code",
   "execution_count": null,
   "metadata": {
    "collapsed": false,
    "deletable": true,
    "editable": true,
    "jupyter": {
     "outputs_hidden": false
    }
   },
   "outputs": [],
   "source": [
    "FB = get_pricing('FB', fields='price', start_date='2015-01-01', end_date='2017-01-01')\n",
    "AMZN = get_pricing('AMZN', fields='price', start_date='2015-01-01', end_date='2017-01-01')\n",
    "\n",
    "#Your code goes here"
   ]
  },
  {
   "cell_type": "markdown",
   "metadata": {
    "deletable": true,
    "editable": true
   },
   "source": [
    "Congratulations on completing the Linear Correlation Analysis exercises!\n",
    "\n",
    "As you learn more about writing trading models and the Quantopian platform, enter a daily [Quantopian Contest](https://www.quantopian.com/contest). Your strategy will be evaluated for a cash prize every day.\n",
    "\n",
    "Start by going through the [Writing a Contest Algorithm](https://www.quantopian.com/tutorials/contest) tutorial."
   ]
  },
  {
   "cell_type": "markdown",
   "metadata": {
    "deletable": true,
    "editable": true
   },
   "source": [
    "*This presentation is for informational purposes only and does not constitute an offer to sell, a solicitation to buy, or a recommendation for any security; nor does it constitute an offer to provide investment advisory or other services by Quantopian, Inc. (\"Quantopian\"). Nothing contained herein constitutes investment advice or offers any opinion with respect to the suitability of any security, and any views expressed herein should not be taken as advice to buy, sell, or hold any security or as an endorsement of any security or company.  In preparing the information contained herein, Quantopian, Inc. has not taken into account the investment needs, objectives, and financial circumstances of any particular investor. Any views expressed and data illustrated herein were prepared based upon information, believed to be reliable, available to Quantopian, Inc. at the time of publication. Quantopian makes no guarantees as to their accuracy or completeness. All information is subject to change and may quickly become unreliable for various reasons, including changes in market conditions or economic circumstances.*"
   ]
  }
 ],
 "metadata": {
  "kernelspec": {
   "display_name": "Python 3",
   "language": "python",
   "name": "python3"
  },
  "language_info": {
   "codemirror_mode": {
    "name": "ipython",
    "version": 3
   },
   "file_extension": ".py",
   "mimetype": "text/x-python",
   "name": "python",
   "nbconvert_exporter": "python",
   "pygments_lexer": "ipython3",
   "version": "3.8.1"
  }
 },
 "nbformat": 4,
 "nbformat_minor": 4
}
