{
 "cells": [
  {
   "cell_type": "markdown",
   "metadata": {},
   "source": [
    "# The Correlation Coefficient\n",
    "By Evgenia \"Jenny\" Nitishinskaya and Delaney Granizo-Mackenzie with example algorithms by David Edwards\n",
    "\n",
    "Part of the Quantopian Lecture Series:\n",
    "\n",
    "* [www.quantopian.com/lectures](https://www.quantopian.com/lectures)\n",
    "* [github.com/quantopian/research_public](https://github.com/quantopian/research_public)\n",
    "\n",
    "\n",
    "---\n",
    "`Covariance` is a measure of the degree to which two variables move together relative to their individual mean values over time. A positive `covariance` means that the rate of return for two assets moves in the same direction relative to their means during the same period of time. A negative `covariance` means that the rate of return moves in opposite directions.\n",
    "\n",
    "The correlation coefficient measures the extent to which the relationship between two variables is linear. Its value is always between -1 and 1. A positive coefficient indicates that the variables are directly related, i.e. when one increases the other one also increases. A negative coefficient indicates that the variables are inversely related, so that when one increases the other decreases. The closer to 0 the correlation coefficient is, the weaker the relationship between the variables.\n",
    "\n",
    "The correlation coefficient of two series $X$ and $Y$ is defined as\n",
    "$$r = \\frac{Cov(X,Y)}{std(X)std(Y)}$$\n",
    "where $Cov$ is the covariance and $std$ is the standard deviation.\n",
    "\n",
    "Two random sets of data will have a correlation coefficient close to 0:"
   ]
  },
  {
   "cell_type": "markdown",
   "metadata": {},
   "source": [
    "## Correlation vs. Covariance\n",
    "\n",
    "Correlation is simply a normalized form of covariance. They are otherwise the same and are often used semi-interchangeably in everyday conversation. It is obviously important to be precise with language when discussing the two, but conceptually they are almost identical.\n",
    "\n",
    "### Covariance isn't that meaningful by itself\n",
    "\n",
    "Let's say we have two variables $X$ and $Y$ and we take the covariance of the two."
   ]
  },
  {
   "cell_type": "code",
   "execution_count": 2,
   "metadata": {
    "tags": []
   },
   "outputs": [],
   "source": [
    "import numpy as np\n",
    "import pandas as pd\n",
    "import matplotlib.pyplot as plt"
   ]
  },
  {
   "cell_type": "code",
   "execution_count": 14,
   "metadata": {
    "collapsed": false,
    "jupyter": {
     "outputs_hidden": false
    }
   },
   "outputs": [
    {
     "data": {
      "text/plain": [
       "0.14570174780464318"
      ]
     },
     "execution_count": 14,
     "metadata": {},
     "output_type": "execute_result"
    }
   ],
   "source": [
    "X = np.random.rand(50)\n",
    "Y = 2 * X + np.random.normal(0, 0.1, 50)\n",
    "np.cov(X, Y)[0, 1]"
   ]
  },
  {
   "cell_type": "markdown",
   "metadata": {},
   "source": [
    "So now what? What does this mean? Correlation uses information about the variance of X and Y to normalize this metric. Once we've normalized the metric to the -1 to 1 scale, we can make meaningful statements and compare correlations.\n",
    "\n",
    "To see how this is done consider the formula.\n",
    "\n",
    "$$\\frac{Cov(X, Y)}{std(X)std(Y)}$$\n",
    "\n",
    "$$= \\frac{Cov(X, Y)}{\\sqrt{var(X)}\\sqrt{var(Y)}}$$\n",
    "\n",
    "$$= \\frac{Cov(X, Y)}{\\sqrt{Cov(X, X)}\\sqrt{Cov(Y, Y)}}$$"
   ]
  },
  {
   "cell_type": "markdown",
   "metadata": {},
   "source": [
    "To demonstrate this let's compare the correlation and covariance of two series."
   ]
  },
  {
   "cell_type": "code",
   "execution_count": 17,
   "metadata": {
    "collapsed": false,
    "jupyter": {
     "outputs_hidden": false
    }
   },
   "outputs": [
    {
     "name": "stdout",
     "output_type": "stream",
     "text": [
      "[0.2929586  0.65650976 0.64989277 0.65853895 0.7792734  0.70443823\n",
      " 0.38582769 0.32068584 0.65393696 0.41445516 0.60406383 0.36024533\n",
      " 0.92873895 0.76696897 0.56622858 0.06651451 0.56497765 0.14737712\n",
      " 0.02330777 0.20930014 0.11355511 0.24364467 0.72129346 0.65939982\n",
      " 0.02776912 0.13519156 0.53256956 0.2493844  0.83292562 0.07461967\n",
      " 0.60890007 0.146153   0.06474215 0.67104889 0.48820785 0.90455369\n",
      " 0.16127268 0.111307   0.58811163 0.41463135 0.45683473 0.07280409\n",
      " 0.4029166  0.01373073 0.54162677 0.5428363  0.21254994 0.95980935\n",
      " 0.72948117 0.01636183] [4.58591719 5.31301951 5.29978555 5.31707789 5.5585468  5.40887647\n",
      " 4.77165538 4.64137167 5.30787392 4.82891031 5.20812766 4.72049065\n",
      " 5.8574779  5.53393794 5.13245716 4.13302901 5.1299553  4.29475423\n",
      " 4.04661555 4.41860027 4.22711021 4.48728935 5.44258692 5.31879964\n",
      " 4.05553824 4.27038312 5.06513912 4.49876879 5.66585123 4.14923933\n",
      " 5.21780014 4.292306   4.12948429 5.34209777 4.9764157  5.80910738\n",
      " 4.32254535 4.222614   5.17622326 4.82926269 4.91366947 4.14560818\n",
      " 4.80583321 4.02746145 5.08325355 5.08567259 4.42509987 5.91961869\n",
      " 5.45896234 4.03272366]\n",
      "Covariance of X and Y: \n",
      "[[0.07741566 0.15483132]\n",
      " [0.15483132 0.30966265]]\n",
      "Correlation of X and Y: \n",
      "[[1. 1.]\n",
      " [1. 1.]]\n"
     ]
    }
   ],
   "source": [
    "X = np.random.rand(50)\n",
    "Y = 2 * X + 4\n",
    "\n",
    "print('Covariance of X and Y: \\n' + str(np.cov(X, Y)))\n",
    "print('Correlation of X and Y: \\n' + str(np.corrcoef(X, Y)))"
   ]
  },
  {
   "cell_type": "markdown",
   "metadata": {},
   "source": [
    "## Why do both `np.cov` and `np.corrcoef` return matrices?\n",
    "\n",
    "The covariance matrix is an important concept in statistics. Often people will refer to the covariance of two variables $X$ and $Y$, but in reality that is just one entry in the covariance matrix of $X$ and $Y$. For each input variable we have one row and one column. The diagonal is just the variance of that variable, or $Cov(X, X)$, entries off the diagonal are covariances between different variables. Therefore a covariance matrix which consists of 3 assets, `A1`, `A2`, `A3` would look like the following:\n",
    "\n",
    "```\n",
    "[ \n",
    "  [ 1    A1A2 A1A3 ],\n",
    "  [ A2A1 1    A2A3 ],\n",
    "  [ A3A1 A3A2 1    ]\n",
    "]\n",
    "```"
   ]
  },
  {
   "cell_type": "code",
   "execution_count": 22,
   "metadata": {
    "collapsed": false,
    "jupyter": {
     "outputs_hidden": false
    }
   },
   "outputs": [
    {
     "ename": "SyntaxError",
     "evalue": "invalid syntax (<ipython-input-22-c43d1843752f>, line 7)",
     "output_type": "error",
     "traceback": [
      "\u001b[0;36m  File \u001b[0;32m\"<ipython-input-22-c43d1843752f>\"\u001b[0;36m, line \u001b[0;32m7\u001b[0m\n\u001b[0;31m    print 'error: ' + str(error)\u001b[0m\n\u001b[0m          ^\u001b[0m\n\u001b[0;31mSyntaxError\u001b[0m\u001b[0;31m:\u001b[0m invalid syntax\n"
     ]
    }
   ],
   "source": [
    "cov_matrix = np.cov(X, Y)\n",
    "\n",
    "# We need to manually set the degrees of freedom on X to 1, as numpy defaults to 0 for variance\n",
    "# This is usually fine, but will result in a slight mismatch as np.cov defaults to 1\n",
    "error = cov_matrix[0, 0] - X.var(ddof=1)\n",
    "\n",
    "print 'error: ' + str(error)"
   ]
  },
  {
   "cell_type": "code",
   "execution_count": 18,
   "metadata": {
    "collapsed": false,
    "jupyter": {
     "outputs_hidden": false
    }
   },
   "outputs": [
    {
     "name": "stdout",
     "output_type": "stream",
     "text": [
      "Correlation: 0.32135676514691897\n",
      "Built-in Correlation: 0.3149296298439806\n"
     ]
    },
    {
     "data": {
      "image/png": "[encoded data removed]",
      "text/plain": [
       "<Figure size 432x288 with 1 Axes>"
      ]
     },
     "metadata": {
      "needs_background": "light"
     },
     "output_type": "display_data"
    }
   ],
   "source": [
    "X = np.random.rand(50)\n",
    "Y = np.random.rand(50)\n",
    "\n",
    "plt.scatter(X,Y)\n",
    "plt.xlabel('X Value')\n",
    "plt.ylabel('Y Value')\n",
    "\n",
    "# taking the relevant value from the matrix returned by np.cov\n",
    "print('Correlation: ' + str(np.cov(X,Y)[0,1]/(np.std(X)*np.std(Y))))\n",
    "# Let's also use the builtin correlation function\n",
    "print('Built-in Correlation: ' + str(np.corrcoef(X, Y)[0, 1]))"
   ]
  },
  {
   "cell_type": "markdown",
   "metadata": {},
   "source": [
    "Now let's see what two correlated sets of data look like."
   ]
  },
  {
   "cell_type": "code",
   "execution_count": 6,
   "metadata": {
    "collapsed": false,
    "jupyter": {
     "outputs_hidden": false
    }
   },
   "outputs": [
    {
     "name": "stdout",
     "output_type": "stream",
     "text": [
      "Correlation: 0.958613485688\n"
     ]
    },
    {
     "data": {
      "image/png": "[encoded data removed]",
      "text/plain": [
       "<matplotlib.figure.Figure at 0x7fe8d4018310>"
      ]
     },
     "metadata": {},
     "output_type": "display_data"
    }
   ],
   "source": [
    "X = np.random.rand(50)\n",
    "Y = X + np.random.normal(0, 0.1, 50)\n",
    "\n",
    "plt.scatter(X,Y)\n",
    "plt.xlabel('X Value')\n",
    "plt.ylabel('Y Value')\n",
    "\n",
    "print 'Correlation: ' + str(np.corrcoef(X, Y)[0, 1])"
   ]
  },
  {
   "cell_type": "markdown",
   "metadata": {},
   "source": [
    "Let's dial down the relationship by introducing more noise."
   ]
  },
  {
   "cell_type": "code",
   "execution_count": 24,
   "metadata": {
    "collapsed": false,
    "jupyter": {
     "outputs_hidden": false
    }
   },
   "outputs": [
    {
     "ename": "SyntaxError",
     "evalue": "invalid syntax (<ipython-input-24-a4fda8430797>, line 8)",
     "output_type": "error",
     "traceback": [
      "\u001b[0;36m  File \u001b[0;32m\"<ipython-input-24-a4fda8430797>\"\u001b[0;36m, line \u001b[0;32m8\u001b[0m\n\u001b[0;31m    print 'Correlation: ' + str(np.corrcoef(X, Y)[0, 1])\u001b[0m\n\u001b[0m          ^\u001b[0m\n\u001b[0;31mSyntaxError\u001b[0m\u001b[0;31m:\u001b[0m invalid syntax\n"
     ]
    }
   ],
   "source": [
    "X = np.random.rand(50)\n",
    "Y = X + np.random.normal(0, .2, 50)\n",
    "\n",
    "plt.scatter(X,Y)\n",
    "plt.xlabel('X Value')\n",
    "plt.ylabel('Y Value')\n",
    "\n",
    "print 'Correlation: ' + str(np.corrcoef(X, Y)[0, 1])"
   ]
  },
  {
   "cell_type": "markdown",
   "metadata": {},
   "source": [
    "Finally, let's see what an inverse relationship looks like."
   ]
  },
  {
   "cell_type": "code",
   "execution_count": 21,
   "metadata": {
    "collapsed": false,
    "jupyter": {
     "outputs_hidden": false
    }
   },
   "outputs": [
    {
     "name": "stdout",
     "output_type": "stream",
     "text": [
      "[0.71283089 0.60571001 0.15027822 0.46662666 0.05764248 0.98622878\n",
      " 0.36734863 0.5035687  0.35892884 0.55324721 0.01891441 0.34258943\n",
      " 0.55259982 0.93001815 0.05072512 0.47834346 0.25491657 0.19654652\n",
      " 0.74954954 0.68839611 0.40689068 0.18297925 0.73733904 0.18305366\n",
      " 0.66911316 0.15336222 0.88860078 0.6489014  0.67877516 0.4549059\n",
      " 0.41567674 0.32213959 0.67510703 0.14897934 0.36267946 0.20236614\n",
      " 0.45388931 0.03672744 0.03072323 0.41259851 0.61287261 0.32300684\n",
      " 0.59804725 0.98285441 0.04502917 0.07365211 0.57666683 0.40919793\n",
      " 0.39368035 0.98284397]\n",
      "[[ 1.         -0.95107041]\n",
      " [-0.95107041  1.        ]]\n",
      "Correlation: -0.9510704126645697\n"
     ]
    },
    {
     "data": {
      "image/png": "[encoded data removed]",
      "text/plain": [
       "<Figure size 432x288 with 1 Axes>"
      ]
     },
     "metadata": {
      "needs_background": "light"
     },
     "output_type": "display_data"
    }
   ],
   "source": [
    "X = np.random.rand(50)\n",
    "Y = -X + np.random.normal(0, .1, 50)\n",
    "\n",
    "plt.scatter(X,Y)\n",
    "plt.xlabel('X Value')\n",
    "plt.ylabel('Y Value')\n",
    "\n",
    "print(np.corrcoef(X, Y))\n",
    "print('Correlation: ' + str(np.corrcoef(X, Y)[0, 1]))"
   ]
  },
  {
   "cell_type": "markdown",
   "metadata": {},
   "source": [
    "We see a little bit of rounding error, but they are clearly the same value."
   ]
  },
  {
   "cell_type": "markdown",
   "metadata": {},
   "source": [
    "## How is this useful in finance?\n",
    "\n",
    "### Determining related assets\n",
    "\n",
    "Once we've established that two series are probably related, we can use that in an effort to predict future values of the series. For example, let's look at the price of Apple and a semiconductor equipment manufacturer, Lam Research Corporation."
   ]
  },
  {
   "cell_type": "code",
   "execution_count": 23,
   "metadata": {
    "collapsed": false,
    "jupyter": {
     "outputs_hidden": false
    }
   },
   "outputs": [
    {
     "ename": "SyntaxError",
     "evalue": "Missing parentheses in call to 'print'. Did you mean print(\"Correlation coefficients\")? (<ipython-input-23-26d21268edad>, line 12)",
     "output_type": "error",
     "traceback": [
      "\u001b[0;36m  File \u001b[0;32m\"<ipython-input-23-26d21268edad>\"\u001b[0;36m, line \u001b[0;32m12\u001b[0m\n\u001b[0;31m    print \"Correlation coefficients\"\u001b[0m\n\u001b[0m          ^\u001b[0m\n\u001b[0;31mSyntaxError\u001b[0m\u001b[0;31m:\u001b[0m Missing parentheses in call to 'print'. Did you mean print(\"Correlation coefficients\")?\n"
     ]
    }
   ],
   "source": [
    "# Pull the pricing data for our two stocks and S&P 500\n",
    "start = '2013-01-01'\n",
    "end = '2015-01-01'\n",
    "bench = get_pricing('SPY', fields='price', start_date=start, end_date=end)\n",
    "a1 = get_pricing('LRCX', fields='price', start_date=start, end_date=end)\n",
    "a2 = get_pricing('AAPL', fields='price', start_date=start, end_date=end)\n",
    "\n",
    "plt.scatter(a1,a2)\n",
    "plt.xlabel('LRCX')\n",
    "plt.ylabel('AAPL')\n",
    "plt.title('Stock prices from ' + start + ' to ' + end)\n",
    "print \"Correlation coefficients\"\n",
    "print \"LRCX and AAPL: \", np.corrcoef(a1,a2)[0,1]\n",
    "print \"LRCX and SPY: \", np.corrcoef(a1,bench)[0,1]\n",
    "print \"AAPL and SPY: \", np.corrcoef(bench,a2)[0,1]"
   ]
  },
  {
   "cell_type": "markdown",
   "metadata": {},
   "source": [
    "### Constructing a portfolio of uncorrelated assets\n",
    "\n",
    "Another reason that correlation is useful in finance is that uncorrelated assets produce the best portfolios. The intuition for this is that if the assets are uncorrelated, a drawdown in one will not correspond with a drawdown in another. This leads to a very stable return stream when many uncorrelated assets are combined."
   ]
  },
  {
   "cell_type": "markdown",
   "metadata": {},
   "source": [
    "# Limitations\n",
    "\n",
    "## Significance\n",
    "\n",
    "It's hard to rigorously determine whether or not a correlation is significant, especially when, as here, the variables are not normally distributed. Their correlation coefficient is close to 1, so it's pretty safe to say that the two stock prices are correlated over the time period we use, but is this indicative of future correlation? If we examine the correlation of each of them with the S&P 500, we see that it is also quite high. So, AAPL and LRCX are slightly more correlated with each other than with the average stock.\n",
    "\n",
    "One fundamental problem is that it is easy to datamine correlations by picking the right time period. To avoid this, one should compute the correlation of two quantities over many historical time periods and examine the distibution of the correlation coefficient. More details on why single point estimates are bad will be covered in future notebooks.\n",
    "\n",
    "As an example, remember that the correlation of AAPL and LRCX from 2013-1-1 to 2015-1-1 was 0.95. Let's take the rolling 60 day correlation between the two to see how that varies."
   ]
  },
  {
   "cell_type": "code",
   "execution_count": 10,
   "metadata": {
    "collapsed": false,
    "jupyter": {
     "outputs_hidden": false
    }
   },
   "outputs": [
    {
     "data": {
      "text/plain": [
       "<matplotlib.text.Text at 0x7fe83920c610>"
      ]
     },
     "execution_count": 10,
     "metadata": {},
     "output_type": "execute_result"
    },
    {
     "data": {
      "image/png": "[encoded data removed]",
      "text/plain": [
       "<matplotlib.figure.Figure at 0x7fe839379a90>"
      ]
     },
     "metadata": {},
     "output_type": "display_data"
    }
   ],
   "source": [
    "rolling_correlation = pd.rolling_corr(a1, a2, 60)\n",
    "plt.plot(rolling_correlation)\n",
    "plt.xlabel('Day')\n",
    "plt.ylabel('60-day Rolling Correlation')"
   ]
  },
  {
   "cell_type": "markdown",
   "metadata": {},
   "source": [
    "## Non-Linear Relationships\n",
    "\n",
    "The correlation coefficient can be useful for examining the strength of the relationship between two variables. However, it's important to remember that two variables may be associated in different, predictable ways which this analysis would not pick up. For instance, one variable might precisely follow the behavior of a second, but with a delay. There are techniques for dealing with this lagged correlation. Alternatively, a variable may be related to the rate of change of another. Neither of these relationships are linear, but can be very useful if detected.\n",
    "\n",
    "Additionally, the correlation coefficient can be very sensitive to outliers. This means that including or excluding even a couple of data points can alter your result, and it is not always clear whether these points contain information or are simply noise.\n",
    "\n",
    "As an example, let's make the noise distribution poisson rather than normal and see what happens."
   ]
  },
  {
   "cell_type": "code",
   "execution_count": 11,
   "metadata": {
    "collapsed": false,
    "jupyter": {
     "outputs_hidden": false
    }
   },
   "outputs": [
    {
     "data": {
      "text/plain": [
       "0.18485889539744632"
      ]
     },
     "execution_count": 11,
     "metadata": {},
     "output_type": "execute_result"
    },
    {
     "data": {
      "image/png": "[encoded data removed]",
      "text/plain": [
       "<matplotlib.figure.Figure at 0x7fe839383990>"
      ]
     },
     "metadata": {},
     "output_type": "display_data"
    }
   ],
   "source": [
    "X = np.random.rand(100)\n",
    "Y = X + np.random.poisson(size=100)\n",
    "\n",
    "plt.scatter(X, Y)\n",
    "\n",
    "np.corrcoef(X, Y)[0, 1]"
   ]
  },
  {
   "cell_type": "markdown",
   "metadata": {},
   "source": [
    "In conclusion, correlation is a powerful technique, but as always in statistics, one should be careful not to interpret results where there are none."
   ]
  },
  {
   "cell_type": "markdown",
   "metadata": {},
   "source": [
    "*This presentation is for informational purposes only and does not constitute an offer to sell, a solicitation to buy, or a recommendation for any security; nor does it constitute an offer to provide investment advisory or other services by Quantopian, Inc. (\"Quantopian\"). Nothing contained herein constitutes investment advice or offers any opinion with respect to the suitability of any security, and any views expressed herein should not be taken as advice to buy, sell, or hold any security or as an endorsement of any security or company.  In preparing the information contained herein, Quantopian, Inc. has not taken into account the investment needs, objectives, and financial circumstances of any particular investor. Any views expressed and data illustrated herein were prepared based upon information, believed to be reliable, available to Quantopian, Inc. at the time of publication. Quantopian makes no guarantees as to their accuracy or completeness. All information is subject to change and may quickly become unreliable for various reasons, including changes in market conditions or economic circumstances.*"
   ]
  }
 ],
 "metadata": {
  "kernelspec": {
   "display_name": "Python 3",
   "language": "python",
   "name": "python3"
  },
  "language_info": {
   "codemirror_mode": {
    "name": "ipython",
    "version": 3
   },
   "file_extension": ".py",
   "mimetype": "text/x-python",
   "name": "python",
   "nbconvert_exporter": "python",
   "pygments_lexer": "ipython3",
   "version": "3.8.1"
  }
 },
 "nbformat": 4,
 "nbformat_minor": 4
}
