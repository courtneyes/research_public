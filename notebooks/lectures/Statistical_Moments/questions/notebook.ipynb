{
 "cells": [
  {
   "cell_type": "markdown",
   "metadata": {
    "deletable": true,
    "editable": true
   },
   "source": [
    "# Exercises: Statistical Moments and Normality Testing\n",
    "\n",
    "## Lecture Link : \n",
    "https://www.quantopian.com/lectures/statistical-moments\n",
    "\n",
    "### IMPORTANT NOTE: \n",
    "This lecture corresponds to the Statistical Moments and Normality Testing lecture, which is part of the Quantopian lecture series. This homework expects you to rely heavily on the code presented in the corresponding lecture. Please copy and paste regularly from that lecture when starting to work on the problems, as trying to do them from scratch will likely be too difficult.\n",
    "\n",
    "Part of the Quantopian Lecture Series:\n",
    "\n",
    "* [www.quantopian.com/lectures](https://www.quantopian.com/lectures)\n",
    "* [github.com/quantopian/research_public](https://github.com/quantopian/research_public)\n",
    "\n",
    "----"
   ]
  },
  {
   "cell_type": "code",
   "execution_count": 11,
   "metadata": {
    "collapsed": false,
    "deletable": true,
    "editable": true,
    "jupyter": {
     "outputs_hidden": false
    }
   },
   "outputs": [],
   "source": [
    "# Useful Libraries\n",
    "import matplotlib.pyplot as plt\n",
    "import numpy as np\n",
    "import pandas as pd\n",
    "import quandl as ql\n",
    "import scipy.stats as stats\n",
    "from statsmodels.stats.stattools import jarque_bera\n",
    "import marketstack as ms\n",
    "\n",
    "# import sys  \n",
    "# sys.path.insert(0, '/Users/scottc/Documents/Personal/research_public/notebooks/utils')\n",
    "# print(sys.path)\n",
    "\n"
   ]
  },
  {
   "cell_type": "markdown",
   "metadata": {
    "deletable": true,
    "editable": true
   },
   "source": [
    "# Exercise 1: Testing for Skew\n",
    "\n",
    "## a. Artificial Example\n",
    "\n",
    "Use the results from the `stats.skew` function to determine the skew of the artificial distribution named X. "
   ]
  },
  {
   "cell_type": "code",
   "execution_count": 89,
   "metadata": {
    "collapsed": false,
    "deletable": true,
    "editable": true,
    "jupyter": {
     "outputs_hidden": false
    }
   },
   "outputs": [
    {
     "data": {
      "text/plain": [
       "0.26474831096388496"
      ]
     },
     "execution_count": 89,
     "metadata": {},
     "output_type": "execute_result"
    },
    {
     "data": {
      "image/png": "[encoded data removed]",
      "text/plain": [
       "<Figure size 432x288 with 1 Axes>"
      ]
     },
     "metadata": {
      "needs_background": "light"
     },
     "output_type": "display_data"
    }
   ],
   "source": [
    "xs2 = np.linspace(stats.gamma.ppf(0.01, 0.7, loc=-1), stats.gamma.ppf(0.99, 0.7, loc=-1), 150) + 1\n",
    "X = stats.gamma.pdf(xs2, 1.5)\n",
    "\n",
    "#Your code goes here\n",
    "plt.plot(xs2, X)\n",
    "stats.skew(X)"
   ]
  },
  {
   "cell_type": "markdown",
   "metadata": {
    "deletable": true,
    "editable": true
   },
   "source": [
    "## b. Real Example\n",
    "\n",
    "Use the results from the `stats.skew` function to determine the skew of the returns of NFLX and use it to make a conclusion about the symmetry of the stock's returns. "
   ]
  },
  {
   "cell_type": "code",
   "execution_count": 24,
   "metadata": {
    "collapsed": false,
    "deletable": true,
    "editable": true,
    "jupyter": {
     "outputs_hidden": false
    }
   },
   "outputs": [
    {
     "name": "stdout",
     "output_type": "stream",
     "text": [
      "Skew: 1.8421822660010927\n",
      "The returns of NFLX have a strong positive skew, meaning their volatility is characterized by frequent small changes in price with interspersed large upticks.\n"
     ]
    },
    {
     "data": {
      "image/png": "[encoded data removed]",
      "text/plain": [
       "<Figure size 432x288 with 1 Axes>"
      ]
     },
     "metadata": {
      "needs_background": "light"
     },
     "output_type": "display_data"
    }
   ],
   "source": [
    "ticker = 'WIKI/NFLX'\n",
    "start = '2015-01-01'\n",
    "end = '2016-01-01'\n",
    "frequency = 'daily'\n",
    "transformation= 'rdiff'\n",
    "\n",
    "NFLX = ql.get(ticker, start_date=start, end_date=end, collapse=frequency, transform=transformation)\n",
    "\n",
    "# remove outlier\n",
    "NFLX = NFLX[NFLX['Close'] != NFLX['Close'].min()]\n",
    "plt.hist(NFLX['Close'], 30)\n",
    "\n",
    "print('Skew:', stats.skew(NFLX['Close']))\n",
    "print('The returns of NFLX have a strong positive skew, meaning their volatility is characterized by frequent small changes in price with interspersed large upticks.')"
   ]
  },
  {
   "cell_type": "markdown",
   "metadata": {
    "deletable": true,
    "editable": true
   },
   "source": [
    "---"
   ]
  },
  {
   "cell_type": "markdown",
   "metadata": {
    "deletable": true,
    "editable": true
   },
   "source": [
    "# Exercise 2: Testing for Kurtosis\n",
    "\n",
    "## a. Artificial Example\n",
    "\n",
    "Use the results from the `stats.kurtosis` function to determine the excess kurtosis of the artificial distribution named Y. "
   ]
  },
  {
   "cell_type": "code",
   "execution_count": 112,
   "metadata": {
    "collapsed": false,
    "deletable": true,
    "editable": true,
    "jupyter": {
     "outputs_hidden": false
    }
   },
   "outputs": [
    {
     "name": "stdout",
     "output_type": "stream",
     "text": [
      "Excess kurtosis of returns:  -0.6344720164161468\n"
     ]
    },
    {
     "data": {
      "image/png": "[encoded data removed]",
      "text/plain": [
       "<Figure size 432x288 with 1 Axes>"
      ]
     },
     "metadata": {
      "needs_background": "light"
     },
     "output_type": "display_data"
    }
   ],
   "source": [
    "xs = np.linspace(-6,6, 300) + 2 \n",
    "\n",
    "Y = stats.cosine.pdf(xs)\n",
    "\n",
    "#Your code goes here\n",
    "plt.plot(xs, Y)\n",
    "print(\"Excess kurtosis of returns: \", stats.kurtosis(Y))"
   ]
  },
  {
   "cell_type": "markdown",
   "metadata": {
    "deletable": true,
    "editable": true
   },
   "source": [
    "## b. Real Example\n",
    "\n",
    "Use the results from the `stats.kurtosis` function to determine the kurtosis of the returns of NFLX and use it to make a conclusion about the volatility of the stock's price."
   ]
  },
  {
   "cell_type": "code",
   "execution_count": 116,
   "metadata": {
    "collapsed": false,
    "deletable": true,
    "editable": true,
    "jupyter": {
     "outputs_hidden": false
    }
   },
   "outputs": [
    {
     "name": "stdout",
     "output_type": "stream",
     "text": [
      "Excess kurtosis of returns:  9.600917417133903\n",
      "The historical returns of NFLX are strongly leptokurtic. Because of a leptokurtic distribution`s fatter tails, small changes in prices happen less often and large changes are more common. This makes the stock a riskier investment.\n"
     ]
    },
    {
     "data": {
      "image/png": "[encoded data removed]",
      "text/plain": [
       "<Figure size 432x288 with 1 Axes>"
      ]
     },
     "metadata": {
      "needs_background": "light"
     },
     "output_type": "display_data"
    }
   ],
   "source": [
    "ticker = 'WIKI/NFLX'\n",
    "start = '2015-01-01'\n",
    "end = '2016-01-01'\n",
    "frequency = 'daily'\n",
    "transformation= 'rdiff'\n",
    "\n",
    "NFLX = ql.get(ticker, start_date=start, end_date=end, collapse=frequency, transform=transformation)\n",
    "\n",
    "# remove outlier\n",
    "NFLX = NFLX[NFLX['Close'] != NFLX['Close'].min()]\n",
    "plt.hist(NFLX['Close'], 30)\n",
    "\n",
    "print(\"Excess kurtosis of returns: \", stats.kurtosis(NFLX['Close']))\n",
    "print('The historical returns of NFLX are strongly leptokurtic. Because of a leptokurtic distribution`s fatter tails, small changes in prices happen less often and large changes are more common. This makes the stock a riskier investment.')"
   ]
  },
  {
   "cell_type": "markdown",
   "metadata": {
    "deletable": true,
    "editable": true
   },
   "source": [
    "---"
   ]
  },
  {
   "cell_type": "markdown",
   "metadata": {
    "deletable": true,
    "editable": true
   },
   "source": [
    "# Exercise 3: Skew and Normality\n",
    "\n",
    "## a. Artificial Example II\n",
    "\n",
    "Use the results from the `stats.skew` function to determine the skew of the artificial distribution named Z. "
   ]
  },
  {
   "cell_type": "code",
   "execution_count": 11,
   "metadata": {
    "collapsed": false,
    "deletable": true,
    "editable": true,
    "jupyter": {
     "outputs_hidden": false
    }
   },
   "outputs": [
    {
     "name": "stdout",
     "output_type": "stream",
     "text": [
      "Skew: 1.1121491036049673\n",
      "The distribution is positively skewed\n"
     ]
    },
    {
     "data": {
      "image/png": "[encoded data removed]",
      "text/plain": [
       "<Figure size 432x288 with 1 Axes>"
      ]
     },
     "metadata": {
      "needs_background": "light"
     },
     "output_type": "display_data"
    }
   ],
   "source": [
    "xs2 = np.linspace(stats.lognorm.ppf(0.01, 0.7, loc=-.1), stats.lognorm.ppf(0.99, 0.7, loc=-.1), 150)\n",
    "\n",
    "lognorm = stats.lognorm.pdf(xs2, 0.4)\n",
    "\n",
    "Z = lognorm/2 + lognorm[::-1]\n",
    "\n",
    "#Your code goes here\n",
    "skew = stats.skew(Z)\n",
    "\n",
    "plt.plot(xs2, Z)\n",
    "print('Skew:', skew)\n",
    "\n",
    "if skew > 0:\n",
    "    print('The distribution is positively skewed')\n",
    "elif skew < 0:\n",
    "    print('The distribution is negatively skewed')\n",
    "else:\n",
    "    print('The distribution is symmetric')"
   ]
  },
  {
   "cell_type": "markdown",
   "metadata": {
    "deletable": true,
    "editable": true
   },
   "source": [
    "## b. Jarque-Bera Calibration\n",
    "\n",
    "Ensure that the `jarque-bera` function is calibrated by running it on many trials of simulated data and ensuring that the sample probability that the test returns a result under the p-value is equal to the p-value."
   ]
  },
  {
   "cell_type": "code",
   "execution_count": 15,
   "metadata": {
    "collapsed": false,
    "deletable": true,
    "editable": true,
    "jupyter": {
     "outputs_hidden": false
    }
   },
   "outputs": [
    {
     "name": "stdout",
     "output_type": "stream",
     "text": [
      "0.055\n",
      "The returns are likely normal.\n"
     ]
    }
   ],
   "source": [
    "N = 1000\n",
    "M = 1000\n",
    "\n",
    "pvalues = np.ndarray((N))\n",
    "\n",
    "for i in range(N):\n",
    "    # Draw M samples from a normal distribution \n",
    "    X = np.random.normal(0, 1, M);\n",
    "    _, pvalue, _, _ = jarque_bera(X)\n",
    "    pvalues[i] = pvalue\n",
    "\n",
    "num_significant = len(pvalues[pvalues < 0.05])\n",
    "\n",
    "#Your code goes here\n",
    "print(float(num_significant) / N)"
   ]
  },
  {
   "cell_type": "markdown",
   "metadata": {
    "deletable": true,
    "editable": true
   },
   "source": [
    "## c. Jarque-Bera Test\n",
    "\n",
    "Use the `Jarque-Bera` function to determine the normality of Z."
   ]
  },
  {
   "cell_type": "code",
   "execution_count": 18,
   "metadata": {
    "collapsed": false,
    "deletable": true,
    "editable": true,
    "jupyter": {
     "outputs_hidden": false
    }
   },
   "outputs": [
    {
     "name": "stdout",
     "output_type": "stream",
     "text": [
      "p-value: 1.6768991741743907e-07\n",
      "The returns are likely not normal.\n"
     ]
    }
   ],
   "source": [
    "#Your code goes here\n",
    "_, pvalue, _, _ = jarque_bera(Z)\n",
    "\n",
    "print('p-value:', pvalue)\n",
    "\n",
    "if pvalue > 0.05:\n",
    "    print('The returns are likely normal.')\n",
    "else:\n",
    "    print('The returns are likely not normal.')"
   ]
  },
  {
   "cell_type": "markdown",
   "metadata": {
    "deletable": true,
    "editable": true
   },
   "source": [
    "## d. Skewness and Normality\n",
    "\n",
    "Plot Z and observe that skewness is not informative unless the underlying distribution is somewhat normal."
   ]
  },
  {
   "cell_type": "code",
   "execution_count": 21,
   "metadata": {
    "collapsed": false,
    "deletable": true,
    "editable": true,
    "jupyter": {
     "outputs_hidden": false
    }
   },
   "outputs": [
    {
     "name": "stdout",
     "output_type": "stream",
     "text": [
      "The positive skew found in part a) would have led us to believe values are concentrated below the mean and a tail extends to the right, however this is not the case. Because Z is bimodal, we can make no conclusions based on the skewness value alone. In order for skewness to be useful, the underlying distribution must be somewhat normal\n"
     ]
    },
    {
     "data": {
      "image/png": "[encoded data removed]",
      "text/plain": [
       "<Figure size 432x288 with 1 Axes>"
      ]
     },
     "metadata": {
      "needs_background": "light"
     },
     "output_type": "display_data"
    }
   ],
   "source": [
    "#Your code goes here\n",
    "plt.plot(xs2, Z)\n",
    "\n",
    "print('The positive skew found in part a) would have led us to believe values are concentrated below the mean and a tail extends to the right, however this is not the case. Because Z is bimodal, we can make no conclusions based on the skewness value alone. In order for skewness to be useful, the underlying distribution must be somewhat normal')"
   ]
  },
  {
   "cell_type": "markdown",
   "metadata": {
    "deletable": true,
    "editable": true
   },
   "source": [
    "---"
   ]
  },
  {
   "cell_type": "markdown",
   "metadata": {
    "deletable": true,
    "editable": true
   },
   "source": [
    "# Exercise 4: Out of Sample Test\n",
    "\n",
    "## a. Testing for Normality\n",
    "\n",
    "Plot a histogram of the historical returns of AMC to ensure it is unimodal and vaguely normal before testing it for skewness in part b)."
   ]
  },
  {
   "cell_type": "code",
   "execution_count": 27,
   "metadata": {
    "collapsed": false,
    "deletable": true,
    "editable": true,
    "jupyter": {
     "outputs_hidden": false
    }
   },
   "outputs": [
    {
     "data": {
      "text/plain": [
       "(array([ 1.,  0.,  0.,  0.,  2.,  1.,  2.,  4.,  6., 12.,  9., 19., 13.,\n",
       "        29., 25., 44., 57., 68., 56., 34., 36., 29., 18., 12.,  6.,  5.,\n",
       "         4.,  5.,  3.,  3.]),\n",
       " array([-0.07507692, -0.07070598, -0.06633503, -0.06196409, -0.05759315,\n",
       "        -0.0532222 , -0.04885126, -0.04448031, -0.04010937, -0.03573842,\n",
       "        -0.03136748, -0.02699653, -0.02262559, -0.01825465, -0.0138837 ,\n",
       "        -0.00951276, -0.00514181, -0.00077087,  0.00360008,  0.00797102,\n",
       "         0.01234197,  0.01671291,  0.02108385,  0.0254548 ,  0.02982574,\n",
       "         0.03419669,  0.03856763,  0.04293858,  0.04730952,  0.05168047,\n",
       "         0.05605141]),\n",
       " <BarContainer object of 30 artists>)"
      ]
     },
     "execution_count": 27,
     "metadata": {},
     "output_type": "execute_result"
    },
    {
     "data": {
      "image/png": "[encoded data removed]",
      "text/plain": [
       "<Figure size 432x288 with 1 Axes>"
      ]
     },
     "metadata": {
      "needs_background": "light"
     },
     "output_type": "display_data"
    }
   ],
   "source": [
    "ticker = 'WIKI/AMC'\n",
    "start = '2014-01-01'\n",
    "end = '2016-01-01'\n",
    "frequency = 'daily'\n",
    "transformation= 'rdiff'\n",
    "\n",
    "AMC = ql.get(ticker, start_date=start, end_date=end, collapse=frequency, transform=transformation)\n",
    "\n",
    "plt.hist(AMC['Close'], 30)"
   ]
  },
  {
   "cell_type": "markdown",
   "metadata": {
    "deletable": true,
    "editable": true
   },
   "source": [
    "## b. Test for Skew\n",
    "\n",
    "Find the skew of the historical returns of AMC between 2014 to 2016. "
   ]
  },
  {
   "cell_type": "code",
   "execution_count": 28,
   "metadata": {
    "collapsed": false,
    "deletable": true,
    "editable": true,
    "jupyter": {
     "outputs_hidden": false
    }
   },
   "outputs": [
    {
     "name": "stdout",
     "output_type": "stream",
     "text": [
      "Skew: -0.14140785001443099\n"
     ]
    }
   ],
   "source": [
    "skew = stats.skew(AMC['Close'])\n",
    "print('Skew:', skew)"
   ]
  },
  {
   "cell_type": "markdown",
   "metadata": {
    "deletable": true,
    "editable": true
   },
   "source": [
    "## c. Out of Sample Test\n",
    "\n",
    "Find the skew of the historical returns of AMC from the first half of 2016 to determine if the skew from part b) holds outside of the original sample."
   ]
  },
  {
   "cell_type": "code",
   "execution_count": 36,
   "metadata": {
    "collapsed": false,
    "deletable": true,
    "editable": true,
    "jupyter": {
     "outputs_hidden": false
    }
   },
   "outputs": [
    {
     "name": "stdout",
     "output_type": "stream",
     "text": [
      "Skew: 1.010945265675297\n",
      "The negative skew of AMC between 2014 and 2016 did not hold outside of the orignal sample, meaning the skew of AMC might be volatile and not reliable enough for predictions about future behavior.\n"
     ]
    },
    {
     "data": {
      "image/png": "[encoded data removed]",
      "text/plain": [
       "<Figure size 432x288 with 1 Axes>"
      ]
     },
     "metadata": {
      "needs_background": "light"
     },
     "output_type": "display_data"
    }
   ],
   "source": [
    "ticker = 'WIKI/AMC'\n",
    "start = '2016-01-01'\n",
    "end = '2016-07-01'\n",
    "frequency = 'daily'\n",
    "transformation= 'rdiff'\n",
    "\n",
    "out_returns = ql.get(ticker, start_date=start, end_date=end, collapse=frequency, transform=transformation)\n",
    "\n",
    "plt.hist(out_returns['Close'], 30)\n",
    "skew = stats.skew(out_returns['Close'])\n",
    "print('Skew:', skew)\n",
    "print('The negative skew of AMC between 2014 and 2016 did not hold outside of the orignal sample, meaning the skew of AMC might be volatile and not reliable enough for predictions about future behavior.')"
   ]
  },
  {
   "cell_type": "markdown",
   "metadata": {
    "deletable": true,
    "editable": true
   },
   "source": [
    "## d. Rolling Skew\n",
    "\n",
    "Plot the rolling skew of AMC using the `pd.rolling_skew` function. "
   ]
  },
  {
   "cell_type": "code",
   "execution_count": 35,
   "metadata": {
    "collapsed": false,
    "deletable": true,
    "editable": true,
    "jupyter": {
     "outputs_hidden": false
    }
   },
   "outputs": [
    {
     "name": "stdout",
     "output_type": "stream",
     "text": [
      "This confirms our result from part c, that the skew is too volatile to use it to make predictions outside of the sample.\n"
     ]
    },
    {
     "data": {
      "image/png": "[encoded data removed]",
      "text/plain": [
       "<Figure size 432x288 with 1 Axes>"
      ]
     },
     "metadata": {
      "needs_background": "light"
     },
     "output_type": "display_data"
    }
   ],
   "source": [
    "rolling_skew = AMC['Close'].rolling(window=60,center=False).skew()\n",
    "plt.plot(rolling_skew)\n",
    "plt.xlabel('Day')\n",
    "plt.ylabel('60-day Rolling Skew')\n",
    "print('This confirms our result from part c, that the skew is too volatile to use it to make predictions outside of the sample.')"
   ]
  },
  {
   "cell_type": "markdown",
   "metadata": {
    "deletable": true,
    "editable": true
   },
   "source": [
    "---\n",
    "\n",
    "Congratulations on completing the Statistical Moments and Normality Testing exercises!\n",
    "\n",
    "As you learn more about writing trading algorithms and the Quantopian platform, be sure to check out the daily [Quantopian Contest](https://www.quantopian.com/contest), in which you can compete for a cash prize every day.\n",
    "\n",
    "Start by going through the [Writing a Contest Algorithm](https://www.quantopian.com/tutorials/contest) tutorial."
   ]
  },
  {
   "cell_type": "markdown",
   "metadata": {
    "deletable": true,
    "editable": true
   },
   "source": [
    "*This presentation is for informational purposes only and does not constitute an offer to sell, a solicitation to buy, or a recommendation for any security; nor does it constitute an offer to provide investment advisory or other services by Quantopian, Inc. (\"Quantopian\"). Nothing contained herein constitutes investment advice or offers any opinion with respect to the suitability of any security, and any views expressed herein should not be taken as advice to buy, sell, or hold any security or as an endorsement of any security or company.  In preparing the information contained herein, Quantopian, Inc. has not taken into account the investment needs, objectives, and financial circumstances of any particular investor. Any views expressed and data illustrated herein were prepared based upon information, believed to be reliable, available to Quantopian, Inc. at the time of publication. Quantopian makes no guarantees as to their accuracy or completeness. All information is subject to change and may quickly become unreliable for various reasons, including changes in market conditions or economic circumstances.*"
   ]
  }
 ],
 "metadata": {
  "kernelspec": {
   "display_name": "Python 3",
   "language": "python",
   "name": "python3"
  },
  "language_info": {
   "codemirror_mode": {
    "name": "ipython",
    "version": 3
   },
   "file_extension": ".py",
   "mimetype": "text/x-python",
   "name": "python",
   "nbconvert_exporter": "python",
   "pygments_lexer": "ipython3",
   "version": "3.8.1"
  }
 },
 "nbformat": 4,
 "nbformat_minor": 4
}
